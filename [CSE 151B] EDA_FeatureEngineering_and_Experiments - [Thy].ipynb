{
 "cells": [
  {
   "cell_type": "markdown",
   "id": "f4cdaa6c",
   "metadata": {},
   "source": [
    "# Setup"
   ]
  },
  {
   "cell_type": "code",
   "execution_count": 57,
   "id": "1b94b432",
   "metadata": {},
   "outputs": [],
   "source": [
    "import pandas as pd\n",
    "import numpy as np\n",
    "import json\n",
    "import os\n",
    "\n",
    "from IPython.display import display, HTML\n",
    "from datetime import datetime\n",
    "import time\n",
    "\n",
    "import seaborn as sns\n",
    "import matplotlib.pyplot as plt\n",
    "\n",
    "import statistics as st\n",
    "from math import cos, pi\n",
    "\n",
    "from sklearn.linear_model import LinearRegression\n",
    "from sklearn import linear_model\n",
    "from sklearn.linear_model import Ridge\n",
    "from sklearn.neighbors import KNeighborsRegressor\n",
    "from sklearn.tree import DecisionTreeRegressor\n",
    "from sklearn.ensemble import GradientBoostingRegressor\n",
    "from sklearn.ensemble import RandomForestRegressor\n",
    "from sklearn.multioutput import MultiOutputRegressor\n",
    "\n",
    "from keras.models import Sequential\n",
    "from keras.layers import LSTM, Dense\n",
    "\n",
    "import warnings\n",
    "warnings.filterwarnings('ignore')"
   ]
  },
  {
   "cell_type": "markdown",
   "id": "fa509f48",
   "metadata": {},
   "source": [
    "# Read data"
   ]
  },
  {
   "cell_type": "code",
   "execution_count": 118,
   "id": "77819520",
   "metadata": {},
   "outputs": [],
   "source": [
    "df = pd.read_csv('train.csv')\n",
    "test_data = pd.read_csv('test_public.csv')\n",
    "\n",
    "if os.path.exists('dftrain.csv'):\n",
    "    dftrain = pd.read_csv('dftrain.csv')\n",
    "if os.path.exists('dftest.csv'):\n",
    "    dftest = pd.read_csv('dftest.csv')"
   ]
  },
  {
   "cell_type": "markdown",
   "id": "40a431ef",
   "metadata": {},
   "source": [
    "# Extract data\n",
    "- In case dftrain.csv and dftest.csv do not exist, run the following"
   ]
  },
  {
   "cell_type": "code",
   "execution_count": 119,
   "id": "ff9b07b1",
   "metadata": {},
   "outputs": [],
   "source": [
    "del df['DAY_TYPE']"
   ]
  },
  {
   "cell_type": "code",
   "execution_count": 120,
   "id": "15054405",
   "metadata": {},
   "outputs": [],
   "source": [
    "times = df.POLYLINE.apply(lambda x: max((x.count('[')-1-1)*15, 0)) # if (x.count('[')-1-1)*15 > 0 else np.nan)\n",
    "df = df.assign(TRAVEL_TIME = times)"
   ]
  },
  {
   "cell_type": "code",
   "execution_count": 123,
   "id": "4394a896",
   "metadata": {},
   "outputs": [],
   "source": [
    "df = df[df.MISSING_DATA != True]"
   ]
  },
  {
   "cell_type": "code",
   "execution_count": 122,
   "id": "962588fe",
   "metadata": {},
   "outputs": [],
   "source": [
    "def extract_time(data):\n",
    "    datetime_timestamp = data.TIMESTAMP.apply(lambda x: datetime.fromtimestamp(x))\n",
    "    years = datetime_timestamp.apply(lambda x: x.year)\n",
    "    months = datetime_timestamp.apply(lambda x: x.month)\n",
    "    weeks = datetime_timestamp.apply(lambda x: x.week) # week of year\n",
    "    days = datetime_timestamp.apply(lambda x: x.day) # day of month\n",
    "    hours = datetime_timestamp.apply(lambda x: x.hour) # hour of day\n",
    "    mins = datetime_timestamp.apply(lambda x: x.minute) # minute of hour\n",
    "    weekdays = datetime_timestamp.apply(lambda x: x.weekday()) # Monday=0\n",
    "    \n",
    "    df_out = data[[\"TRIP_ID\", \"TAXI_ID\"]]\n",
    "\n",
    "    df_out = df_out.assign(\n",
    "        YEAR = years,\n",
    "        MONTH = months,\n",
    "        WEEK = weeks,\n",
    "        DAY = days,\n",
    "        HOUR = hours,\n",
    "        MIN = mins,\n",
    "        WEEKDAY = weekdays\n",
    "    )\n",
    "    \n",
    "    return df_out"
   ]
  },
  {
   "cell_type": "code",
   "execution_count": 124,
   "id": "bdf445ef",
   "metadata": {},
   "outputs": [
    {
     "name": "stdout",
     "output_type": "stream",
     "text": [
      "CPU times: user 21.6 s, sys: 1.99 s, total: 23.6 s\n",
      "Wall time: 23.6 s\n"
     ]
    }
   ],
   "source": [
    "%%time\n",
    "dftrain = extract_time(df)"
   ]
  },
  {
   "cell_type": "code",
   "execution_count": 125,
   "id": "025d8bf7",
   "metadata": {},
   "outputs": [
    {
     "name": "stdout",
     "output_type": "stream",
     "text": [
      "CPU times: user 19.3 ms, sys: 1.27 ms, total: 20.6 ms\n",
      "Wall time: 18.4 ms\n"
     ]
    }
   ],
   "source": [
    "%%time\n",
    "dftest = extract_time(test_data)"
   ]
  },
  {
   "cell_type": "code",
   "execution_count": 126,
   "id": "a8ba54e0",
   "metadata": {},
   "outputs": [],
   "source": [
    "def encode_call_type(in_df, data):\n",
    "    typeA = data.CALL_TYPE.apply(lambda x: 1 if x == \"A\" else 0)\n",
    "    typeB = data.CALL_TYPE.apply(lambda x: 1 if x == \"B\" else 0)\n",
    "    typeC = data.CALL_TYPE.apply(lambda x: 1 if x == \"C\" else 0)\n",
    "    in_df = in_df.assign(CALL_TYPE_A=typeA, CALL_TYPE_B=typeB, CALL_TYPE_C=typeC)\n",
    "    return in_df"
   ]
  },
  {
   "cell_type": "code",
   "execution_count": 127,
   "id": "44745632",
   "metadata": {},
   "outputs": [
    {
     "name": "stdout",
     "output_type": "stream",
     "text": [
      "CPU times: user 1.21 s, sys: 205 ms, total: 1.42 s\n",
      "Wall time: 1.42 s\n"
     ]
    }
   ],
   "source": [
    "%%time\n",
    "dftrain=encode_call_type(dftrain, df)\n",
    "dftest=encode_call_type(dftest, test_data)"
   ]
  },
  {
   "cell_type": "code",
   "execution_count": 128,
   "id": "5bd7a057",
   "metadata": {},
   "outputs": [],
   "source": [
    "def get_boolean(in_df, data):\n",
    "    origin_call = data.ORIGIN_CALL.apply(lambda x: 1 if x is not None else 0)\n",
    "    origin_stand = data.ORIGIN_STAND.apply(lambda x: 1 if x is not None else 0)\n",
    "    missing_data = data.MISSING_DATA.apply(lambda x: 1 if x else 0)\n",
    "    in_df = in_df.assign(ORIGIN_CALL=origin_call, \n",
    "                         ORIGIN_STAND=origin_stand, \n",
    "                         MISSING_DATA=missing_data)\n",
    "    return in_df"
   ]
  },
  {
   "cell_type": "code",
   "execution_count": 129,
   "id": "6ac13e33",
   "metadata": {},
   "outputs": [
    {
     "name": "stdout",
     "output_type": "stream",
     "text": [
      "CPU times: user 1.29 s, sys: 364 ms, total: 1.65 s\n",
      "Wall time: 1.65 s\n"
     ]
    }
   ],
   "source": [
    "%%time\n",
    "dftrain = get_boolean(dftrain, df)\n",
    "dftest = get_boolean(dftest, test_data)"
   ]
  },
  {
   "cell_type": "code",
   "execution_count": 131,
   "id": "c3bbf105",
   "metadata": {},
   "outputs": [
    {
     "data": {
      "text/html": [
       "<div>\n",
       "<style scoped>\n",
       "    .dataframe tbody tr th:only-of-type {\n",
       "        vertical-align: middle;\n",
       "    }\n",
       "\n",
       "    .dataframe tbody tr th {\n",
       "        vertical-align: top;\n",
       "    }\n",
       "\n",
       "    .dataframe thead th {\n",
       "        text-align: right;\n",
       "    }\n",
       "</style>\n",
       "<table border=\"1\" class=\"dataframe\">\n",
       "  <thead>\n",
       "    <tr style=\"text-align: right;\">\n",
       "      <th></th>\n",
       "      <th>TRIP_ID</th>\n",
       "      <th>TAXI_ID</th>\n",
       "      <th>YEAR</th>\n",
       "      <th>MONTH</th>\n",
       "      <th>WEEK</th>\n",
       "      <th>DAY</th>\n",
       "      <th>HOUR</th>\n",
       "      <th>MIN</th>\n",
       "      <th>WEEKDAY</th>\n",
       "      <th>CALL_TYPE_A</th>\n",
       "      <th>CALL_TYPE_B</th>\n",
       "      <th>CALL_TYPE_C</th>\n",
       "      <th>ORIGIN_CALL</th>\n",
       "      <th>ORIGIN_STAND</th>\n",
       "      <th>MISSING_DATA</th>\n",
       "      <th>TIMESTAMP</th>\n",
       "    </tr>\n",
       "  </thead>\n",
       "  <tbody>\n",
       "    <tr>\n",
       "      <th>0</th>\n",
       "      <td>T1</td>\n",
       "      <td>20000542</td>\n",
       "      <td>2014</td>\n",
       "      <td>8</td>\n",
       "      <td>33</td>\n",
       "      <td>14</td>\n",
       "      <td>17</td>\n",
       "      <td>57</td>\n",
       "      <td>3</td>\n",
       "      <td>0</td>\n",
       "      <td>1</td>\n",
       "      <td>0</td>\n",
       "      <td>1</td>\n",
       "      <td>1</td>\n",
       "      <td>0</td>\n",
       "      <td>1408039037</td>\n",
       "    </tr>\n",
       "    <tr>\n",
       "      <th>1</th>\n",
       "      <td>T2</td>\n",
       "      <td>20000108</td>\n",
       "      <td>2014</td>\n",
       "      <td>8</td>\n",
       "      <td>33</td>\n",
       "      <td>14</td>\n",
       "      <td>17</td>\n",
       "      <td>50</td>\n",
       "      <td>3</td>\n",
       "      <td>0</td>\n",
       "      <td>1</td>\n",
       "      <td>0</td>\n",
       "      <td>1</td>\n",
       "      <td>1</td>\n",
       "      <td>0</td>\n",
       "      <td>1408038611</td>\n",
       "    </tr>\n",
       "    <tr>\n",
       "      <th>2</th>\n",
       "      <td>T3</td>\n",
       "      <td>20000370</td>\n",
       "      <td>2014</td>\n",
       "      <td>8</td>\n",
       "      <td>33</td>\n",
       "      <td>14</td>\n",
       "      <td>17</td>\n",
       "      <td>49</td>\n",
       "      <td>3</td>\n",
       "      <td>0</td>\n",
       "      <td>1</td>\n",
       "      <td>0</td>\n",
       "      <td>1</td>\n",
       "      <td>1</td>\n",
       "      <td>0</td>\n",
       "      <td>1408038568</td>\n",
       "    </tr>\n",
       "  </tbody>\n",
       "</table>\n",
       "</div>"
      ],
      "text/plain": [
       "  TRIP_ID   TAXI_ID  YEAR  MONTH  WEEK  DAY  HOUR  MIN  WEEKDAY  CALL_TYPE_A  \\\n",
       "0      T1  20000542  2014      8    33   14    17   57        3            0   \n",
       "1      T2  20000108  2014      8    33   14    17   50        3            0   \n",
       "2      T3  20000370  2014      8    33   14    17   49        3            0   \n",
       "\n",
       "   CALL_TYPE_B  CALL_TYPE_C  ORIGIN_CALL  ORIGIN_STAND  MISSING_DATA  \\\n",
       "0            1            0            1             1             0   \n",
       "1            1            0            1             1             0   \n",
       "2            1            0            1             1             0   \n",
       "\n",
       "    TIMESTAMP  \n",
       "0  1408039037  \n",
       "1  1408038611  \n",
       "2  1408038568  "
      ]
     },
     "execution_count": 131,
     "metadata": {},
     "output_type": "execute_result"
    }
   ],
   "source": [
    "dftrain = dftrain.assign(TRAVEL_TIME=df.TRAVEL_TIME, TIMESTAMP=df.TIMESTAMP)\n",
    "\n",
    "### clean empty rows ###\n",
    "dftrain.dropna(inplace=True)\n",
    "\n",
    "dftest=dftest.assign(TIMESTAMP=test_data.TIMESTAMP)\n",
    "dftest.head(3)"
   ]
  },
  {
   "cell_type": "code",
   "execution_count": 132,
   "id": "63c3300f",
   "metadata": {},
   "outputs": [],
   "source": [
    "save_file = False \n",
    "if save_file:\n",
    "    dftrain.to_csv('dftrain.csv', index=False)\n",
    "    dftest.to_csv('dftest.csv', index=False)"
   ]
  },
  {
   "cell_type": "markdown",
   "id": "acfccc5a",
   "metadata": {},
   "source": [
    "# Helper functions"
   ]
  },
  {
   "cell_type": "code",
   "execution_count": 121,
   "id": "74d20ff2",
   "metadata": {},
   "outputs": [],
   "source": [
    "def plot_2d(top, trip_id):\n",
    "    plt.figure(figsize=(10, 6))\n",
    "    x = []\n",
    "    y = []\n",
    "    \n",
    "    for elem in top:\n",
    "        x.append(elem[0])\n",
    "        y.append(elem[1])\n",
    "    print('Number of points', len(x))\n",
    "    print('First coordinates', x[0], y[0])\n",
    "    print('Last coordinates', x[-1], y[-1])\n",
    "    \n",
    "    # Plot the points\n",
    "    plt.scatter(x, y)\n",
    "\n",
    "    # Connect the points with lines\n",
    "    plt.plot(x, y, 'b-')\n",
    "    \n",
    "    # First dot is red; last dot is yellow\n",
    "    plt.plot(x[0], y[0], '-o', color='red')\n",
    "    plt.plot(x[-1], y[-1], '-o', color='yellow')\n",
    "    \n",
    "    # Add labels and title\n",
    "    plt.xlabel('Longitude')\n",
    "    plt.ylabel('Latitude')\n",
    "    plt.title(f'TRIP_ID={trip_id} Visualized in 2D')\n",
    "\n",
    "    # Display the plot\n",
    "    plt.show()\n",
    "    \n",
    "\"\"\"[LON, LAT]\"\"\"\n",
    "def get_lon_1st(x):\n",
    "    if x == '[]':\n",
    "        lon_1st = 0\n",
    "    else:\n",
    "        lon_1st = float(x[2:].split(',')[0])\n",
    "    return lon_1st\n",
    "\n",
    "def get_lat_1st(x):\n",
    "    if x == '[]':\n",
    "        last_1st = 0\n",
    "    else:\n",
    "        tmp = x[2:].split(',')[1]\n",
    "        if tmp[-1] == ',':\n",
    "            last_1st = float(tmp[:-1])\n",
    "        else:\n",
    "            last_1st = float(tmp[:-2])\n",
    "    return last_1st\n",
    "\n",
    "def get_lon_last(x):\n",
    "    if x == '[]':\n",
    "        lon_last = 0\n",
    "    else:\n",
    "        lon_last = float(x[2:].split('[')[-1].split(',')[0])\n",
    "    return lon_last\n",
    "\n",
    "def get_lat_last(x):\n",
    "    if x == '[]':\n",
    "        lat_last = 0\n",
    "    else:\n",
    "        lat_last = float(x[:-2].split(',')[-1])\n",
    "    return lat_last"
   ]
  },
  {
   "cell_type": "markdown",
   "id": "63e389f2",
   "metadata": {},
   "source": [
    "### 2A - Provided training data size"
   ]
  },
  {
   "cell_type": "code",
   "execution_count": 4,
   "id": "4aa330ff",
   "metadata": {},
   "outputs": [
    {
     "name": "stdout",
     "output_type": "stream",
     "text": [
      "(1710670, 9)\n"
     ]
    }
   ],
   "source": [
    "print(df.shape)"
   ]
  },
  {
   "cell_type": "code",
   "execution_count": 5,
   "id": "5a85233f",
   "metadata": {},
   "outputs": [
    {
     "data": {
      "text/html": [
       "<div>\n",
       "<style scoped>\n",
       "    .dataframe tbody tr th:only-of-type {\n",
       "        vertical-align: middle;\n",
       "    }\n",
       "\n",
       "    .dataframe tbody tr th {\n",
       "        vertical-align: top;\n",
       "    }\n",
       "\n",
       "    .dataframe thead th {\n",
       "        text-align: right;\n",
       "    }\n",
       "</style>\n",
       "<table border=\"1\" class=\"dataframe\">\n",
       "  <thead>\n",
       "    <tr style=\"text-align: right;\">\n",
       "      <th></th>\n",
       "      <th>TRIP_ID</th>\n",
       "      <th>CALL_TYPE</th>\n",
       "      <th>ORIGIN_CALL</th>\n",
       "      <th>ORIGIN_STAND</th>\n",
       "      <th>TAXI_ID</th>\n",
       "      <th>TIMESTAMP</th>\n",
       "      <th>DAY_TYPE</th>\n",
       "      <th>MISSING_DATA</th>\n",
       "      <th>POLYLINE</th>\n",
       "    </tr>\n",
       "  </thead>\n",
       "  <tbody>\n",
       "    <tr>\n",
       "      <th>0</th>\n",
       "      <td>1372636858620000589</td>\n",
       "      <td>C</td>\n",
       "      <td>NaN</td>\n",
       "      <td>NaN</td>\n",
       "      <td>20000589</td>\n",
       "      <td>1372636858</td>\n",
       "      <td>A</td>\n",
       "      <td>False</td>\n",
       "      <td>[[-8.618643,41.141412],[-8.618499,41.141376],[...</td>\n",
       "    </tr>\n",
       "    <tr>\n",
       "      <th>1</th>\n",
       "      <td>1372637303620000596</td>\n",
       "      <td>B</td>\n",
       "      <td>NaN</td>\n",
       "      <td>7.0</td>\n",
       "      <td>20000596</td>\n",
       "      <td>1372637303</td>\n",
       "      <td>A</td>\n",
       "      <td>False</td>\n",
       "      <td>[[-8.639847,41.159826],[-8.640351,41.159871],[...</td>\n",
       "    </tr>\n",
       "    <tr>\n",
       "      <th>2</th>\n",
       "      <td>1372636951620000320</td>\n",
       "      <td>C</td>\n",
       "      <td>NaN</td>\n",
       "      <td>NaN</td>\n",
       "      <td>20000320</td>\n",
       "      <td>1372636951</td>\n",
       "      <td>A</td>\n",
       "      <td>False</td>\n",
       "      <td>[[-8.612964,41.140359],[-8.613378,41.14035],[-...</td>\n",
       "    </tr>\n",
       "  </tbody>\n",
       "</table>\n",
       "</div>"
      ],
      "text/plain": [
       "               TRIP_ID CALL_TYPE  ORIGIN_CALL  ORIGIN_STAND   TAXI_ID  \\\n",
       "0  1372636858620000589         C          NaN           NaN  20000589   \n",
       "1  1372637303620000596         B          NaN           7.0  20000596   \n",
       "2  1372636951620000320         C          NaN           NaN  20000320   \n",
       "\n",
       "    TIMESTAMP DAY_TYPE  MISSING_DATA  \\\n",
       "0  1372636858        A         False   \n",
       "1  1372637303        A         False   \n",
       "2  1372636951        A         False   \n",
       "\n",
       "                                            POLYLINE  \n",
       "0  [[-8.618643,41.141412],[-8.618499,41.141376],[...  \n",
       "1  [[-8.639847,41.159826],[-8.640351,41.159871],[...  \n",
       "2  [[-8.612964,41.140359],[-8.613378,41.14035],[-...  "
      ]
     },
     "execution_count": 5,
     "metadata": {},
     "output_type": "execute_result"
    }
   ],
   "source": [
    "df.head(3)"
   ]
  },
  {
   "cell_type": "code",
   "execution_count": 6,
   "id": "0fa264c7",
   "metadata": {},
   "outputs": [
    {
     "data": {
      "text/plain": [
       "TRIP_ID           int64\n",
       "CALL_TYPE        object\n",
       "ORIGIN_CALL     float64\n",
       "ORIGIN_STAND    float64\n",
       "TAXI_ID           int64\n",
       "TIMESTAMP         int64\n",
       "DAY_TYPE         object\n",
       "MISSING_DATA       bool\n",
       "POLYLINE         object\n",
       "dtype: object"
      ]
     },
     "execution_count": 6,
     "metadata": {},
     "output_type": "execute_result"
    }
   ],
   "source": [
    "df.dtypes"
   ]
  },
  {
   "cell_type": "markdown",
   "id": "bace8718",
   "metadata": {},
   "source": [
    "### 2A - Provided testing data size"
   ]
  },
  {
   "cell_type": "code",
   "execution_count": 7,
   "id": "3b62abaf",
   "metadata": {},
   "outputs": [
    {
     "name": "stdout",
     "output_type": "stream",
     "text": [
      "(320, 8)\n"
     ]
    }
   ],
   "source": [
    "print(test_data.shape)"
   ]
  },
  {
   "cell_type": "code",
   "execution_count": 8,
   "id": "c7708045",
   "metadata": {},
   "outputs": [
    {
     "data": {
      "text/html": [
       "<div>\n",
       "<style scoped>\n",
       "    .dataframe tbody tr th:only-of-type {\n",
       "        vertical-align: middle;\n",
       "    }\n",
       "\n",
       "    .dataframe tbody tr th {\n",
       "        vertical-align: top;\n",
       "    }\n",
       "\n",
       "    .dataframe thead th {\n",
       "        text-align: right;\n",
       "    }\n",
       "</style>\n",
       "<table border=\"1\" class=\"dataframe\">\n",
       "  <thead>\n",
       "    <tr style=\"text-align: right;\">\n",
       "      <th></th>\n",
       "      <th>TRIP_ID</th>\n",
       "      <th>CALL_TYPE</th>\n",
       "      <th>ORIGIN_CALL</th>\n",
       "      <th>ORIGIN_STAND</th>\n",
       "      <th>TAXI_ID</th>\n",
       "      <th>TIMESTAMP</th>\n",
       "      <th>DAY_TYPE</th>\n",
       "      <th>MISSING_DATA</th>\n",
       "    </tr>\n",
       "  </thead>\n",
       "  <tbody>\n",
       "    <tr>\n",
       "      <th>0</th>\n",
       "      <td>T1</td>\n",
       "      <td>B</td>\n",
       "      <td>NaN</td>\n",
       "      <td>15.0</td>\n",
       "      <td>20000542</td>\n",
       "      <td>1408039037</td>\n",
       "      <td>A</td>\n",
       "      <td>False</td>\n",
       "    </tr>\n",
       "    <tr>\n",
       "      <th>1</th>\n",
       "      <td>T2</td>\n",
       "      <td>B</td>\n",
       "      <td>NaN</td>\n",
       "      <td>57.0</td>\n",
       "      <td>20000108</td>\n",
       "      <td>1408038611</td>\n",
       "      <td>A</td>\n",
       "      <td>False</td>\n",
       "    </tr>\n",
       "    <tr>\n",
       "      <th>2</th>\n",
       "      <td>T3</td>\n",
       "      <td>B</td>\n",
       "      <td>NaN</td>\n",
       "      <td>15.0</td>\n",
       "      <td>20000370</td>\n",
       "      <td>1408038568</td>\n",
       "      <td>A</td>\n",
       "      <td>False</td>\n",
       "    </tr>\n",
       "  </tbody>\n",
       "</table>\n",
       "</div>"
      ],
      "text/plain": [
       "  TRIP_ID CALL_TYPE  ORIGIN_CALL  ORIGIN_STAND   TAXI_ID   TIMESTAMP DAY_TYPE  \\\n",
       "0      T1         B          NaN          15.0  20000542  1408039037        A   \n",
       "1      T2         B          NaN          57.0  20000108  1408038611        A   \n",
       "2      T3         B          NaN          15.0  20000370  1408038568        A   \n",
       "\n",
       "   MISSING_DATA  \n",
       "0         False  \n",
       "1         False  \n",
       "2         False  "
      ]
     },
     "execution_count": 8,
     "metadata": {},
     "output_type": "execute_result"
    }
   ],
   "source": [
    "test_data.head(3)"
   ]
  },
  {
   "cell_type": "markdown",
   "id": "6d111b8c",
   "metadata": {},
   "source": [
    "### 2A - First trip"
   ]
  },
  {
   "cell_type": "code",
   "execution_count": 9,
   "id": "0069415b",
   "metadata": {},
   "outputs": [
    {
     "data": {
      "text/html": [
       "<div>\n",
       "<style scoped>\n",
       "    .dataframe tbody tr th:only-of-type {\n",
       "        vertical-align: middle;\n",
       "    }\n",
       "\n",
       "    .dataframe tbody tr th {\n",
       "        vertical-align: top;\n",
       "    }\n",
       "\n",
       "    .dataframe thead th {\n",
       "        text-align: right;\n",
       "    }\n",
       "</style>\n",
       "<table border=\"1\" class=\"dataframe\">\n",
       "  <thead>\n",
       "    <tr style=\"text-align: right;\">\n",
       "      <th></th>\n",
       "      <th>TRIP_ID</th>\n",
       "      <th>TAXI_ID</th>\n",
       "      <th>YEAR</th>\n",
       "      <th>MONTH</th>\n",
       "      <th>WEEK</th>\n",
       "      <th>DAY</th>\n",
       "      <th>HOUR</th>\n",
       "      <th>MIN</th>\n",
       "      <th>WEEKDAY</th>\n",
       "      <th>CALL_TYPE_A</th>\n",
       "      <th>CALL_TYPE_B</th>\n",
       "      <th>CALL_TYPE_C</th>\n",
       "      <th>ORIGIN_CALL</th>\n",
       "      <th>ORIGIN_STAND</th>\n",
       "      <th>MISSING_DATA</th>\n",
       "      <th>TRAVEL_TIME</th>\n",
       "      <th>TIMESTAMP</th>\n",
       "    </tr>\n",
       "  </thead>\n",
       "  <tbody>\n",
       "    <tr>\n",
       "      <th>0</th>\n",
       "      <td>1372636858620000589</td>\n",
       "      <td>20000589</td>\n",
       "      <td>2013</td>\n",
       "      <td>7</td>\n",
       "      <td>27</td>\n",
       "      <td>1</td>\n",
       "      <td>0</td>\n",
       "      <td>0</td>\n",
       "      <td>0</td>\n",
       "      <td>0</td>\n",
       "      <td>0</td>\n",
       "      <td>1</td>\n",
       "      <td>1</td>\n",
       "      <td>1</td>\n",
       "      <td>0</td>\n",
       "      <td>330</td>\n",
       "      <td>1372636858</td>\n",
       "    </tr>\n",
       "  </tbody>\n",
       "</table>\n",
       "</div>"
      ],
      "text/plain": [
       "               TRIP_ID   TAXI_ID  YEAR  MONTH  WEEK  DAY  HOUR  MIN  WEEKDAY  \\\n",
       "0  1372636858620000589  20000589  2013      7    27    1     0    0        0   \n",
       "\n",
       "   CALL_TYPE_A  CALL_TYPE_B  CALL_TYPE_C  ORIGIN_CALL  ORIGIN_STAND  \\\n",
       "0            0            0            1            1             1   \n",
       "\n",
       "   MISSING_DATA  TRAVEL_TIME   TIMESTAMP  \n",
       "0             0          330  1372636858  "
      ]
     },
     "execution_count": 9,
     "metadata": {},
     "output_type": "execute_result"
    }
   ],
   "source": [
    "dftrain.head(1)"
   ]
  },
  {
   "cell_type": "code",
   "execution_count": 10,
   "id": "d5cf6818",
   "metadata": {
    "scrolled": false
   },
   "outputs": [
    {
     "name": "stdout",
     "output_type": "stream",
     "text": [
      "Number of points 23\n",
      "First coordinates -8.618643 41.141412\n",
      "Last coordinates -8.630838 41.154489\n"
     ]
    },
    {
     "data": {
      "image/png": "[encoded data removed]",
      "text/plain": [
       "<Figure size 720x432 with 1 Axes>"
      ]
     },
     "metadata": {
      "needs_background": "light"
     },
     "output_type": "display_data"
    }
   ],
   "source": [
    "trip_id = 1372636858620000589\n",
    "plot_2d(eval(df[df.TRIP_ID == trip_id].POLYLINE[0]), trip_id=trip_id)"
   ]
  },
  {
   "cell_type": "markdown",
   "id": "a83b4351",
   "metadata": {},
   "source": [
    "### 2B - Feature engineering rationales"
   ]
  },
  {
   "cell_type": "code",
   "execution_count": 11,
   "id": "31e1553a",
   "metadata": {
    "scrolled": false
   },
   "outputs": [
    {
     "data": {
      "text/plain": [
       "<AxesSubplot:>"
      ]
     },
     "execution_count": 11,
     "metadata": {},
     "output_type": "execute_result"
    },
    {
     "data": {
      "image/png": "[encoded data removed]",
      "text/plain": [
       "<Figure size 1080x1080 with 2 Axes>"
      ]
     },
     "metadata": {
      "needs_background": "light"
     },
     "output_type": "display_data"
    }
   ],
   "source": [
    "fig, ax = plt.subplots(figsize=(15,15))\n",
    "sns.heatmap(df.corr(), annot = True, vmin=-1, vmax=1, center= 0, cmap= 'coolwarm',square=True)"
   ]
  },
  {
   "cell_type": "code",
   "execution_count": 12,
   "id": "0647e665",
   "metadata": {},
   "outputs": [
    {
     "data": {
      "text/plain": [
       "<AxesSubplot:>"
      ]
     },
     "execution_count": 12,
     "metadata": {},
     "output_type": "execute_result"
    },
    {
     "data": {
      "image/png": "[encoded data removed]",
      "text/plain": [
       "<Figure size 1080x1080 with 2 Axes>"
      ]
     },
     "metadata": {
      "needs_background": "light"
     },
     "output_type": "display_data"
    }
   ],
   "source": [
    "fig, ax = plt.subplots(figsize=(15,15))\n",
    "sns.heatmap(dftrain.corr(), annot = True, vmin=-1, vmax=1, center= 0, cmap= 'coolwarm',square=True)"
   ]
  },
  {
   "cell_type": "code",
   "execution_count": 22,
   "id": "f7d43bae",
   "metadata": {},
   "outputs": [
    {
     "data": {
      "text/plain": [
       "{1}"
      ]
     },
     "execution_count": 22,
     "metadata": {},
     "output_type": "execute_result"
    }
   ],
   "source": [
    "set(dftrain.ORIGIN_CALL)"
   ]
  },
  {
   "cell_type": "markdown",
   "id": "5f1da400",
   "metadata": {},
   "source": [
    "### 2B - Rationales of normalizing data"
   ]
  },
  {
   "cell_type": "code",
   "execution_count": 17,
   "id": "7cce7f24",
   "metadata": {},
   "outputs": [
    {
     "data": {
      "text/plain": [
       "<AxesSubplot:xlabel='TRAVEL_TIME'>"
      ]
     },
     "execution_count": 17,
     "metadata": {},
     "output_type": "execute_result"
    },
    {
     "data": {
      "image/png": "[encoded data removed]",
      "text/plain": [
       "<Figure size 1080x360 with 1 Axes>"
      ]
     },
     "metadata": {
      "needs_background": "light"
     },
     "output_type": "display_data"
    }
   ],
   "source": [
    "fig, ax = plt.subplots(figsize=(15,5))\n",
    "sns.boxplot(dftrain.TRAVEL_TIME)"
   ]
  },
  {
   "cell_type": "markdown",
   "id": "972d17f7",
   "metadata": {},
   "source": [
    "## 2B - Other EDA"
   ]
  },
  {
   "cell_type": "code",
   "execution_count": 25,
   "id": "62b3e330",
   "metadata": {},
   "outputs": [
    {
     "data": {
      "image/png": "[encoded data removed]",
      "text/plain": [
       "<Figure size 864x360 with 2 Axes>"
      ]
     },
     "metadata": {
      "needs_background": "light"
     },
     "output_type": "display_data"
    }
   ],
   "source": [
    "years = [2013,2014]\n",
    "\n",
    "fig, axs = plt.subplots(nrows=1, ncols=2, figsize=(12,5))\n",
    "axs = axs.flatten()\n",
    "\n",
    "colors=['blue', 'salmon']\n",
    "i = 0\n",
    "for year in years:\n",
    "    data = dftrain[dftrain.YEAR == year]\n",
    "    sns.distplot(data.HOUR, ax=axs[i], color=colors[i])\n",
    "    axs[i].set_title(f'Trip Start Time Distribution in {year} (Hour of a Day)')\n",
    "    i += 1\n",
    "\n",
    "plt.tight_layout()\n",
    "plt.show()"
   ]
  },
  {
   "cell_type": "code",
   "execution_count": 27,
   "id": "edbec943",
   "metadata": {},
   "outputs": [],
   "source": [
    "df_noMISSING = df[df.MISSING_DATA == False]"
   ]
  },
  {
   "cell_type": "code",
   "execution_count": 34,
   "id": "b76dd42d",
   "metadata": {},
   "outputs": [
    {
     "data": {
      "text/plain": [
       "CALL_TYPE\n",
       "A    364769\n",
       "B    817878\n",
       "C    528013\n",
       "Name: TRIP_ID, dtype: int64"
      ]
     },
     "execution_count": 34,
     "metadata": {},
     "output_type": "execute_result"
    }
   ],
   "source": [
    "df_noMISSING.groupby('CALL_TYPE').count()['TRIP_ID']"
   ]
  },
  {
   "cell_type": "code",
   "execution_count": 36,
   "id": "4523f6a0",
   "metadata": {},
   "outputs": [
    {
     "data": {
      "image/png": "[encoded data removed]",
      "text/plain": [
       "<Figure size 432x288 with 1 Axes>"
      ]
     },
     "metadata": {
      "needs_background": "light"
     },
     "output_type": "display_data"
    }
   ],
   "source": [
    "# Data\n",
    "x = ['A', 'B', 'C']\n",
    "y = [364769, 817878, 528013]\n",
    "\n",
    "# Create a bar chart\n",
    "plt.bar(x, y)\n",
    "\n",
    "# Add labels and title\n",
    "plt.xlabel('CALL_TYPE')\n",
    "plt.ylabel('Count')\n",
    "plt.title('The Number of Trips per CALL_TYPE')\n",
    "\n",
    "# Display the chart\n",
    "plt.show()"
   ]
  },
  {
   "cell_type": "code",
   "execution_count": 72,
   "id": "c49ca7f9",
   "metadata": {},
   "outputs": [],
   "source": [
    "groupby_YYMMDD = dftest.groupby(['YEAR', 'MONTH', 'DAY']).count()['TRIP_ID']\n",
    "vals = list(groupby_YYMMDD)\n",
    "days = list(groupby_YYMMDD.index)"
   ]
  },
  {
   "cell_type": "code",
   "execution_count": 79,
   "id": "f1ec65a6",
   "metadata": {
    "scrolled": true
   },
   "outputs": [
    {
     "name": "stdout",
     "output_type": "stream",
     "text": [
      "[(2014, 8, 14), (2014, 9, 30), (2014, 10, 6), (2014, 11, 1), (2014, 12, 21)]\n",
      "[74, 77, 77, 62, 30]\n"
     ]
    }
   ],
   "source": [
    "print(days)\n",
    "print(vals)"
   ]
  },
  {
   "cell_type": "code",
   "execution_count": 80,
   "id": "5a09b3c4",
   "metadata": {},
   "outputs": [
    {
     "name": "stdout",
     "output_type": "stream",
     "text": [
      "4448\n",
      "4885\n",
      "4751\n",
      "6073\n",
      "6428\n"
     ]
    }
   ],
   "source": [
    "print(dftrain[(dftrain['YEAR'] == 2013) & (dftrain['MONTH'] == 8) & (dftrain['DAY'] == 14)].shape[0])\n",
    "print(dftrain[(dftrain['YEAR'] == 2013) & (dftrain['MONTH'] == 9) & (dftrain['DAY'] == 30)].shape[0])\n",
    "print(dftrain[(dftrain['YEAR'] == 2013) & (dftrain['MONTH'] == 10) & (dftrain['DAY'] == 6)].shape[0])\n",
    "print(dftrain[(dftrain['YEAR'] == 2013) & (dftrain['MONTH'] == 11) & (dftrain['DAY'] == 1)].shape[0])\n",
    "print(dftrain[(dftrain['YEAR'] == 2013) & (dftrain['MONTH'] == 12) & (dftrain['DAY'] == 21)].shape[0])"
   ]
  },
  {
   "cell_type": "code",
   "execution_count": 114,
   "id": "8b5bec7b",
   "metadata": {
    "scrolled": true
   },
   "outputs": [
    {
     "data": {
      "text/html": [
       "\n",
       "<html>\n",
       "  <head>\n",
       "    <script type=\"text/javascript\" src=\"https://www.gstatic.com/charts/loader.js\"></script>\n",
       "    <script type=\"text/javascript\">\n",
       "      google.charts.load(\"current\", {packages:[\"calendar\"]});\n",
       "      google.charts.setOnLoadCallback(drawChart);\n",
       "\n",
       "   function drawChart() {\n",
       "       var dataTable = new google.visualization.DataTable();\n",
       "       dataTable.addColumn({ type: 'date', id: 'Date' });\n",
       "       dataTable.addColumn({ type: 'number', id: 'Trip Count' });\n",
       "       dataTable.addRows([\n",
       "          [ new Date(2013, 7, 14), Math.ceil(Math.log(4448)) ],\n",
       "          [ new Date(2013, 8, 30), Math.ceil(Math.log(4885)) ],\n",
       "          [ new Date(2013, 9, 6), Math.ceil(Math.log(4751)) ],\n",
       "          [ new Date(2013, 10, 1), Math.ceil(Math.log(6073)) ],\n",
       "          [ new Date(2013, 11, 21), Math.ceil(Math.log(6428)) ],\n",
       "          [ new Date(2014, 7, 14), Math.ceil(Math.log(74)) ],\n",
       "          [ new Date(2014, 8, 30), Math.ceil(Math.log(77)) ],\n",
       "          [ new Date(2014, 9, 6), Math.ceil(Math.log(77)) ],\n",
       "          [ new Date(2014, 10, 1), Math.ceil(Math.log(62)) ],\n",
       "          [ new Date(2014, 11, 21), Math.ceil(Math.log(30)) ],\n",
       "        ]);\n",
       "\n",
       "       var chart = new google.visualization.Calendar(document.getElementById('calendar_basic'));\n",
       "\n",
       "       var options = {\n",
       "         title: \"ln(Trip Counts) for Selected Days in Aug-Dec\",\n",
       "         height: 320,\n",
       "       };\n",
       "\n",
       "       chart.draw(dataTable, options);\n",
       "   }\n",
       "    </script>\n",
       "  </head>\n",
       "  <body>\n",
       "    <div id=\"calendar_basic\" style=\"width: 1000px; height: 350px;\"></div>\n",
       "  </body>\n",
       "</html>\n"
      ],
      "text/plain": [
       "<IPython.core.display.HTML object>"
      ]
     },
     "metadata": {},
     "output_type": "display_data"
    }
   ],
   "source": [
    "html_code = '''\n",
    "<html>\n",
    "  <head>\n",
    "    <script type=\"text/javascript\" src=\"https://www.gstatic.com/charts/loader.js\"></script>\n",
    "    <script type=\"text/javascript\">\n",
    "      google.charts.load(\"current\", {packages:[\"calendar\"]});\n",
    "      google.charts.setOnLoadCallback(drawChart);\n",
    "\n",
    "   function drawChart() {\n",
    "       var dataTable = new google.visualization.DataTable();\n",
    "       dataTable.addColumn({ type: 'date', id: 'Date' });\n",
    "       dataTable.addColumn({ type: 'number', id: 'Trip Count' });\n",
    "       dataTable.addRows([\n",
    "          [ new Date(2013, 7, 14), Math.ceil(Math.log(4448)) ],\n",
    "          [ new Date(2013, 8, 30), Math.ceil(Math.log(4885)) ],\n",
    "          [ new Date(2013, 9, 6), Math.ceil(Math.log(4751)) ],\n",
    "          [ new Date(2013, 10, 1), Math.ceil(Math.log(6073)) ],\n",
    "          [ new Date(2013, 11, 21), Math.ceil(Math.log(6428)) ],\n",
    "          [ new Date(2014, 7, 14), Math.ceil(Math.log(74)) ],\n",
    "          [ new Date(2014, 8, 30), Math.ceil(Math.log(77)) ],\n",
    "          [ new Date(2014, 9, 6), Math.ceil(Math.log(77)) ],\n",
    "          [ new Date(2014, 10, 1), Math.ceil(Math.log(62)) ],\n",
    "          [ new Date(2014, 11, 21), Math.ceil(Math.log(30)) ],\n",
    "        ]);\n",
    "\n",
    "       var chart = new google.visualization.Calendar(document.getElementById('calendar_basic'));\n",
    "\n",
    "       var options = {\n",
    "         title: \"ln(Trip Counts) for Selected Days in Aug-Dec\",\n",
    "         height: 320,\n",
    "       };\n",
    "\n",
    "       chart.draw(dataTable, options);\n",
    "   }\n",
    "    </script>\n",
    "  </head>\n",
    "  <body>\n",
    "    <div id=\"calendar_basic\" style=\"width: 1000px; height: 350px;\"></div>\n",
    "  </body>\n",
    "</html>\n",
    "'''\n",
    "display(HTML(html_code))"
   ]
  },
  {
   "cell_type": "markdown",
   "id": "71e18c27",
   "metadata": {},
   "source": [
    "## 3B / 4B - Models"
   ]
  },
  {
   "cell_type": "markdown",
   "id": "b56e6994",
   "metadata": {},
   "source": [
    "### Model 0: Simple \"Decision Tree\""
   ]
  },
  {
   "cell_type": "code",
   "execution_count": 133,
   "id": "7a6c14a3",
   "metadata": {},
   "outputs": [],
   "source": [
    "dfsmall = df[['TAXI_ID', 'CALL_TYPE', 'TRAVEL_TIME']]"
   ]
  },
  {
   "cell_type": "code",
   "execution_count": 134,
   "id": "211d335d",
   "metadata": {},
   "outputs": [],
   "source": [
    "dfsmall = dfsmall.dropna()"
   ]
  },
  {
   "cell_type": "code",
   "execution_count": 135,
   "id": "dce39c5f",
   "metadata": {},
   "outputs": [
    {
     "data": {
      "text/html": [
       "<div>\n",
       "<style scoped>\n",
       "    .dataframe tbody tr th:only-of-type {\n",
       "        vertical-align: middle;\n",
       "    }\n",
       "\n",
       "    .dataframe tbody tr th {\n",
       "        vertical-align: top;\n",
       "    }\n",
       "\n",
       "    .dataframe thead th {\n",
       "        text-align: right;\n",
       "    }\n",
       "</style>\n",
       "<table border=\"1\" class=\"dataframe\">\n",
       "  <thead>\n",
       "    <tr style=\"text-align: right;\">\n",
       "      <th></th>\n",
       "      <th>TAXI_ID</th>\n",
       "      <th>CALL_TYPE</th>\n",
       "      <th>TRAVEL_TIME</th>\n",
       "    </tr>\n",
       "  </thead>\n",
       "  <tbody>\n",
       "    <tr>\n",
       "      <th>1710665</th>\n",
       "      <td>20000698</td>\n",
       "      <td>C</td>\n",
       "      <td>465</td>\n",
       "    </tr>\n",
       "    <tr>\n",
       "      <th>1710666</th>\n",
       "      <td>20000670</td>\n",
       "      <td>C</td>\n",
       "      <td>435</td>\n",
       "    </tr>\n",
       "    <tr>\n",
       "      <th>1710667</th>\n",
       "      <td>20000264</td>\n",
       "      <td>C</td>\n",
       "      <td>0</td>\n",
       "    </tr>\n",
       "    <tr>\n",
       "      <th>1710668</th>\n",
       "      <td>20000248</td>\n",
       "      <td>B</td>\n",
       "      <td>915</td>\n",
       "    </tr>\n",
       "    <tr>\n",
       "      <th>1710669</th>\n",
       "      <td>20000079</td>\n",
       "      <td>B</td>\n",
       "      <td>390</td>\n",
       "    </tr>\n",
       "  </tbody>\n",
       "</table>\n",
       "</div>"
      ],
      "text/plain": [
       "          TAXI_ID CALL_TYPE  TRAVEL_TIME\n",
       "1710665  20000698         C          465\n",
       "1710666  20000670         C          435\n",
       "1710667  20000264         C            0\n",
       "1710668  20000248         B          915\n",
       "1710669  20000079         B          390"
      ]
     },
     "execution_count": 135,
     "metadata": {},
     "output_type": "execute_result"
    }
   ],
   "source": [
    "dfsmall.tail()"
   ]
  },
  {
   "cell_type": "code",
   "execution_count": 136,
   "id": "bd489e24",
   "metadata": {},
   "outputs": [],
   "source": [
    "uniq_taxi_ids = dfsmall.TAXI_ID.unique()"
   ]
  },
  {
   "cell_type": "code",
   "execution_count": 137,
   "id": "5c819d4c",
   "metadata": {},
   "outputs": [],
   "source": [
    "mean_time_by_taxi_id = dfsmall.groupby('TAXI_ID')['TRAVEL_TIME'].mean() \n",
    "mean_time_by_call_type = dfsmall.groupby('CALL_TYPE')['TRAVEL_TIME'].mean() # .max()/10 gives really bad preds"
   ]
  },
  {
   "cell_type": "code",
   "execution_count": 138,
   "id": "e15c283a",
   "metadata": {},
   "outputs": [
    {
     "name": "stdout",
     "output_type": "stream",
     "text": [
      "CPU times: user 33.1 ms, sys: 2.02 ms, total: 35.2 ms\n",
      "Wall time: 33.1 ms\n"
     ]
    }
   ],
   "source": [
    "%%time\n",
    "ids = ['TRIP_ID']\n",
    "preds = ['TRAVEL_TIME']\n",
    "for i in dftest.iterrows():\n",
    "    out_id = i[1]['TRIP_ID']\n",
    "    taxi_id = i[1]['TAXI_ID']\n",
    "    if taxi_id in uniq_taxi_ids:\n",
    "        time = round(mean_time_by_taxi_id[taxi_id],0)\n",
    "    else:\n",
    "        call_type = i[1]['CALL_TYPE']\n",
    "        time = round(mean_time_by_call_type[call_type],0)\n",
    "    ids.append(out_id)\n",
    "    preds.append(time)"
   ]
  },
  {
   "cell_type": "markdown",
   "id": "d895a04a",
   "metadata": {},
   "source": [
    "## Some more feature engineering"
   ]
  },
  {
   "cell_type": "code",
   "execution_count": 141,
   "id": "97663cc3",
   "metadata": {},
   "outputs": [],
   "source": [
    "dftrain = pd.read_csv('dftrain.csv')\n",
    "dftest = pd.read_csv('dftest.csv')"
   ]
  },
  {
   "cell_type": "code",
   "execution_count": 142,
   "id": "8abe2cab",
   "metadata": {},
   "outputs": [
    {
     "name": "stdout",
     "output_type": "stream",
     "text": [
      "Process rows: start = 0 end = 100000\n",
      "Process rows: start = 100000 end = 200000\n",
      "Process rows: start = 200000 end = 300000\n",
      "Process rows: start = 300000 end = 400000\n",
      "Process rows: start = 400000 end = 500000\n",
      "Process rows: start = 500000 end = 600000\n",
      "Process rows: start = 600000 end = 700000\n",
      "Process rows: start = 700000 end = 800000\n",
      "Process rows: start = 800000 end = 900000\n",
      "Process rows: start = 900000 end = 1000000\n",
      "Process rows: start = 1000000 end = 1100000\n",
      "Process rows: start = 1100000 end = 1200000\n",
      "Process rows: start = 1200000 end = 1300000\n",
      "Process rows: start = 1300000 end = 1400000\n",
      "Process rows: start = 1400000 end = 1500000\n",
      "Process rows: start = 1500000 end = 1600000\n",
      "Process rows: start = 1600000 end = 1700000\n",
      "Process rows: start = 1700000 end = 1710659\n",
      "CPU times: user 59.3 s, sys: 2.15 s, total: 1min 1s\n",
      "Wall time: 1min 1s\n"
     ]
    }
   ],
   "source": [
    "%%time\n",
    "Xtrain = []\n",
    "ytrain = []\n",
    "\n",
    "gap = 100_000\n",
    "start = 0\n",
    "end = start + gap\n",
    "df_end = dftrain.shape[0]\n",
    "flag = False\n",
    "\n",
    "while end < df_end:\n",
    "    print('Process rows: start =', start, 'end =', end)\n",
    "    tmp_dftrain = dftrain[start:end]\n",
    "    \n",
    "    for row in tmp_dftrain.iterrows():\n",
    "        Xtrain.append(np.array(row[1])[2:-1])\n",
    "        ytrain.append([np.array(row[1])[-1]])\n",
    "    \n",
    "    start = start + gap\n",
    "    end = start + gap\n",
    "    \n",
    "    if end > df_end - 1:\n",
    "        if not flag:\n",
    "            end = df_end - 1\n",
    "            flag = True"
   ]
  },
  {
   "cell_type": "code",
   "execution_count": 143,
   "id": "3fefc1c6",
   "metadata": {},
   "outputs": [
    {
     "name": "stdout",
     "output_type": "stream",
     "text": [
      "CPU times: user 27.9 ms, sys: 1.14 ms, total: 29.1 ms\n",
      "Wall time: 27.2 ms\n"
     ]
    }
   ],
   "source": [
    "%%time\n",
    "Xtest = []\n",
    "for row in dftest.iterrows():\n",
    "    Xtest.append(np.array(row[1])[2:])"
   ]
  },
  {
   "cell_type": "code",
   "execution_count": 150,
   "id": "1249a0ef",
   "metadata": {},
   "outputs": [
    {
     "data": {
      "text/plain": [
       "YEAR            2014\n",
       "MONTH             12\n",
       "WEEK              51\n",
       "DAY               21\n",
       "HOUR              14\n",
       "MIN               17\n",
       "WEEKDAY            6\n",
       "CALL_TYPE_A        1\n",
       "CALL_TYPE_B        0\n",
       "CALL_TYPE_C        0\n",
       "ORIGIN_CALL        1\n",
       "ORIGIN_STAND       1\n",
       "MISSING_DATA       0\n",
       "Name: 319, dtype: object"
      ]
     },
     "execution_count": 150,
     "metadata": {},
     "output_type": "execute_result"
    }
   ],
   "source": [
    "row[1][2:-1]"
   ]
  },
  {
   "cell_type": "markdown",
   "id": "e48ee076",
   "metadata": {},
   "source": [
    "### Model 1: Linear regression"
   ]
  },
  {
   "cell_type": "code",
   "execution_count": 144,
   "id": "823d52a5",
   "metadata": {},
   "outputs": [
    {
     "name": "stdout",
     "output_type": "stream",
     "text": [
      "CPU times: user 5.31 s, sys: 9.35 s, total: 14.7 s\n",
      "Wall time: 3.69 s\n"
     ]
    }
   ],
   "source": [
    "%%time\n",
    "# Model 1\n",
    "lr = LinearRegression(n_jobs=1)\n",
    "\n",
    "# Fitting\n",
    "lr = lr.fit(Xtrain[:500_000], ytrain[:500_000])\n",
    "lr = lr.fit(Xtrain[500_000:], ytrain[500_000:])"
   ]
  },
  {
   "cell_type": "code",
   "execution_count": 145,
   "id": "9c4f2554",
   "metadata": {},
   "outputs": [],
   "source": [
    "# Predict\n",
    "preds = lr.predict(Xtest)"
   ]
  },
  {
   "cell_type": "markdown",
   "id": "37beab0e",
   "metadata": {},
   "source": [
    "### Model 2: Random forest"
   ]
  },
  {
   "cell_type": "code",
   "execution_count": 152,
   "id": "7d3aa6be",
   "metadata": {},
   "outputs": [
    {
     "name": "stdout",
     "output_type": "stream",
     "text": [
      "CPU times: user 5min 44s, sys: 4.64 s, total: 5min 48s\n",
      "Wall time: 5min 49s\n"
     ]
    }
   ],
   "source": [
    "%%time\n",
    "forest = RandomForestRegressor(n_estimators=100, random_state=1)\n",
    "\n",
    "# Fitting\n",
    "forest = forest.fit(Xtrain[:500_000], ytrain[:500_000])\n",
    "forest = forest.fit(Xtrain[500_000:], ytrain[500_000:])"
   ]
  },
  {
   "cell_type": "code",
   "execution_count": null,
   "id": "724306cc",
   "metadata": {},
   "outputs": [],
   "source": [
    "# Predict\n",
    "preds = forest.predict(Xtest)"
   ]
  },
  {
   "cell_type": "markdown",
   "id": "256c3a9b",
   "metadata": {},
   "source": [
    "### Model 3: Combined models\n",
    "\n",
    "- Example:\n",
    "\n",
    "```\n",
    "model0 = pd.read_csv('outputs/decision_tree_pred.csv')\n",
    "model1 = pd.read_csv('outputs/linear_regression_pred.csv')\n",
    "```\n",
    "\n",
    "```\n",
    "ids = ['TRIP_ID']\n",
    "preds = ['\"TRAVEL_TIME\"']\n",
    "\n",
    "j = 0\n",
    "for i in model0.iterrows():\n",
    "    out_id = i[1]['TRIP_ID']\n",
    "    time = round((model0[model0['TRIP_ID'] == out_id]['TRAVEL_TIME']*2\n",
    "            +model1[model1['TRIP_ID'] == out_id]['TRAVEL_TIME'])/3)[j]\n",
    "    j += 1\n",
    "    ids.append(out_id)\n",
    "    preds.append(time)\n",
    "```"
   ]
  },
  {
   "cell_type": "markdown",
   "id": "a4d9a7ca",
   "metadata": {},
   "source": [
    "### Model 4: Weighted average of percentiles\n",
    "\n",
    "- In notebook: [CSE 151B] Final Model [Thy]-final version\n",
    "\n",
    "```\n",
    "preds=[]\n",
    "for i in list(dftest['TAXI_ID']):\n",
    "    tmp=dftrain[(dftrain.TAXI_ID==i)]['TRAVEL_TIME']\n",
    "    p=(np.percentile(tmp,25)+np.percentile(tmp,50)+np.percentile(tmp,75)+np.percentile(tmp,99.5))/9\n",
    "    preds.append(p)\n",
    "```"
   ]
  },
  {
   "cell_type": "markdown",
   "id": "3b7eaae1",
   "metadata": {},
   "source": [
    "### Models 5, 6: Deep learning models\n",
    "\n",
    "- Code is intended to be run on a small portion of data to avoid a dead kernel"
   ]
  },
  {
   "cell_type": "markdown",
   "id": "1746c807",
   "metadata": {},
   "source": [
    "#### Get train/test for 1st TAXI_ID"
   ]
  },
  {
   "cell_type": "code",
   "execution_count": 154,
   "id": "c768588c",
   "metadata": {},
   "outputs": [],
   "source": [
    "trips_id = []\n",
    "travel_preds = []\n",
    "\n",
    "for taxi_id in [20000542]:\n",
    "    newtrain=dftrain[dftrain['TAXI_ID'] == taxi_id]\n",
    "    \n",
    "    train_corr=newtrain[['TRAVEL_TIME', 'YEAR', 'MONTH', 'WEEK', 'DAY', 'HOUR', 'MIN', 'WEEKDAY']].corr()\n",
    "    positive_corr_list=list(train_corr[train_corr > 0]['TRAVEL_TIME'].dropna().keys())\n",
    "    positive_corr_list.remove('TRAVEL_TIME')"
   ]
  },
  {
   "cell_type": "markdown",
   "id": "e88ffdf9",
   "metadata": {},
   "source": [
    "#### Cut outliers"
   ]
  },
  {
   "cell_type": "code",
   "execution_count": 156,
   "id": "7aa1758f",
   "metadata": {},
   "outputs": [],
   "source": [
    "tmpdf = newtrain\n",
    "Q1 = tmpdf['TRAVEL_TIME'].quantile(0.25)\n",
    "Q3 = tmpdf['TRAVEL_TIME'].quantile(0.5)\n",
    "IQR = Q3 - Q1\n",
    "\n",
    "# Define the lower and upper bounds\n",
    "lower_bound = Q1 - 1.5 * IQR\n",
    "upper_bound = Q3 + 1.5 * IQR\n",
    "\n",
    "new_train = newtrain[newtrain.TRAVEL_TIME >= lower_bound]\n",
    "new_train = newtrain[newtrain.TRAVEL_TIME <= upper_bound]"
   ]
  },
  {
   "cell_type": "markdown",
   "id": "bd8bbabb",
   "metadata": {},
   "source": [
    "#### One-hot encoding"
   ]
  },
  {
   "cell_type": "code",
   "execution_count": 158,
   "id": "8f1af44b",
   "metadata": {},
   "outputs": [],
   "source": [
    "years = {\n",
    "    2013: [1, 0],\n",
    "    2014: [0, 1]\n",
    "}\n",
    "\n",
    "tmp_day = np.zeros(len(new_train.DAY.unique()))\n",
    "days = {}\n",
    "for d in list(new_train.DAY):\n",
    "    tmp = list(tmp_day)\n",
    "    tmp[d-1] = tmp[d-1] + 1\n",
    "    days[d] = tmp"
   ]
  },
  {
   "cell_type": "code",
   "execution_count": 159,
   "id": "e4951eca",
   "metadata": {},
   "outputs": [],
   "source": [
    "tmp_hr = np.zeros(len(new_train.HOUR.unique()))\n",
    "hrs = {}\n",
    "for h in list(new_train.HOUR):\n",
    "    tmp = list(tmp_hr)\n",
    "    tmp[h-1] = tmp[h-1] + 1\n",
    "    hrs[h] = tmp"
   ]
  },
  {
   "cell_type": "code",
   "execution_count": 160,
   "id": "bbdd7196",
   "metadata": {},
   "outputs": [],
   "source": [
    "tmp_min = np.zeros(len(new_train.MIN.unique()))\n",
    "mins = {}\n",
    "for m in list(new_train.MIN):\n",
    "    tmp = list(tmp_min)\n",
    "    tmp[m-1] = tmp[m-1] + 1\n",
    "    mins[m] = tmp"
   ]
  },
  {
   "cell_type": "code",
   "execution_count": 161,
   "id": "03f946b1",
   "metadata": {},
   "outputs": [
    {
     "data": {
      "text/plain": [
       "['YEAR', 'DAY', 'HOUR', 'MIN']"
      ]
     },
     "execution_count": 161,
     "metadata": {},
     "output_type": "execute_result"
    }
   ],
   "source": [
    "positive_corr_list"
   ]
  },
  {
   "cell_type": "code",
   "execution_count": 162,
   "id": "52ae0ff6",
   "metadata": {},
   "outputs": [],
   "source": [
    "tmp_travel_time = np.zeros(len(new_train.TRAVEL_TIME.unique()))\n",
    "uniq_travels = new_train.TRAVEL_TIME.unique()\n",
    "times = {}\n",
    "for i in range(len(tmp_travel_time)):\n",
    "    tmp = list(tmp_travel_time)\n",
    "    tmp[i] = 1\n",
    "    times[uniq_travels[i]] = tmp"
   ]
  },
  {
   "cell_type": "code",
   "execution_count": 163,
   "id": "a212d509",
   "metadata": {},
   "outputs": [],
   "source": [
    "Xtrain = []\n",
    "ytrain = []\n",
    "\n",
    "for row in new_train.iterrows():\n",
    "    lst = []\n",
    "    for elem in positive_corr_list:\n",
    "        if elem == 'YEAR':\n",
    "            lst = lst + years[row[1]['YEAR']]\n",
    "        if elem == 'DAY':\n",
    "            lst = lst + days[row[1]['DAY']]\n",
    "        if elem == 'HOUR':\n",
    "            lst = lst + hrs[row[1]['HOUR']]\n",
    "        if elem == 'MIN':\n",
    "            lst = lst + mins[row[1]['MIN']]\n",
    "    Xtrain.append(np.array(lst))\n",
    "    ytrain.append(np.array(times[row[1]['TRAVEL_TIME']]))"
   ]
  },
  {
   "cell_type": "code",
   "execution_count": null,
   "id": "006d8791",
   "metadata": {},
   "outputs": [],
   "source": [
    "import tensorflow as tf\n",
    "\n",
    "Xtrain = np.array(Xtrain)\n",
    "ytrain = np.array(ytrain)\n",
    "\n",
    "X_train = tf.convert_to_tensor(np.array(Xtrain[:int(Xtrain.shape[0]*2/3)]))\n",
    "y_train = tf.convert_to_tensor(np.array(ytrain[:int(Xtrain.shape[0]*2/3)]))\n",
    "\n",
    "X_val = tf.convert_to_tensor(np.array(Xtrain[int(Xtrain.shape[0]*2/3):]))\n",
    "y_val = tf.convert_to_tensor(np.array(ytrain[int(Xtrain.shape[0]*2/3):]))"
   ]
  },
  {
   "cell_type": "markdown",
   "id": "49e52804",
   "metadata": {},
   "source": [
    "#### True-value feature engineering"
   ]
  },
  {
   "cell_type": "code",
   "execution_count": 166,
   "id": "91a6cd67",
   "metadata": {},
   "outputs": [],
   "source": [
    "Xtrain = []\n",
    "ytrain = []\n",
    "\n",
    "for row in new_train.iterrows():\n",
    "    lst = []\n",
    "    for elem in positive_corr_list:\n",
    "        lst.append(row[1][elem])\n",
    "    Xtrain.append(np.array(lst))\n",
    "    ytrain.append(np.array(times[row[1]['TRAVEL_TIME']]))"
   ]
  },
  {
   "cell_type": "code",
   "execution_count": 168,
   "id": "882453ba",
   "metadata": {},
   "outputs": [],
   "source": [
    "Xtrain = np.array(Xtrain)\n",
    "ytrain = np.array(ytrain)\n",
    "\n",
    "X_train = tf.convert_to_tensor(np.array(Xtrain[:int(Xtrain.shape[0]*4/5)]))\n",
    "y_train = tf.convert_to_tensor(np.array(ytrain[:int(Xtrain.shape[0]*4/5)]))\n",
    "\n",
    "X_val = tf.convert_to_tensor(np.array(Xtrain[int(Xtrain.shape[0]*1/5):]))\n",
    "y_val = tf.convert_to_tensor(np.array(ytrain[int(Xtrain.shape[0]*1/5):]))"
   ]
  },
  {
   "cell_type": "markdown",
   "id": "f5dfaaf4",
   "metadata": {},
   "source": [
    "### Model 5: MLP"
   ]
  },
  {
   "cell_type": "code",
   "execution_count": 176,
   "id": "b057a515",
   "metadata": {},
   "outputs": [
    {
     "name": "stdout",
     "output_type": "stream",
     "text": [
      "Epoch 1/5\n",
      "119/119 [==============================] - 2s 11ms/step - loss: 0.9846 - mse: 0.9846 - val_loss: 0.9846 - val_mse: 0.9846\n",
      "Epoch 2/5\n",
      "119/119 [==============================] - 1s 9ms/step - loss: 0.9846 - mse: 0.9846 - val_loss: 0.9846 - val_mse: 0.9846\n",
      "Epoch 3/5\n",
      "119/119 [==============================] - 1s 9ms/step - loss: 0.9846 - mse: 0.9846 - val_loss: 0.9846 - val_mse: 0.9846\n",
      "Epoch 4/5\n",
      "119/119 [==============================] - 1s 9ms/step - loss: 0.9846 - mse: 0.9846 - val_loss: 0.9846 - val_mse: 0.9846\n",
      "Epoch 5/5\n",
      "119/119 [==============================] - 1s 9ms/step - loss: 0.9846 - mse: 0.9846 - val_loss: 0.9846 - val_mse: 0.9846\n"
     ]
    },
    {
     "data": {
      "text/plain": [
       "<keras.callbacks.History at 0x7f80811cddf0>"
      ]
     },
     "execution_count": 176,
     "metadata": {},
     "output_type": "execute_result"
    }
   ],
   "source": [
    "# Define the model\n",
    "model = Sequential()\n",
    "model.add(Dense(64, activation='softmax', input_dim=X_train.shape[1]))\n",
    "model.add(Dense(64, activation='softmax'))\n",
    "model.add(Dense(64, activation='softmax'))\n",
    "model.add(Dense(64, activation='softmax'))\n",
    "model.add(Dense(64, activation='softmax'))\n",
    "model.add(Dense(1, activation='softmax'))\n",
    "\n",
    "# Compile the model\n",
    "model.compile(optimizer='adam', loss='mse', metrics=['mse'])\n",
    "\n",
    "# Train the model\n",
    "model.fit(X_train, y_train, epochs=5, batch_size=32, validation_data=(X_val, y_val))"
   ]
  },
  {
   "cell_type": "markdown",
   "id": "8538865f",
   "metadata": {},
   "source": [
    "### Model 6: LSTM"
   ]
  },
  {
   "cell_type": "code",
   "execution_count": null,
   "id": "c0b5c646",
   "metadata": {
    "scrolled": true
   },
   "outputs": [],
   "source": [
    "trips_id = []\n",
    "travel_preds = []\n",
    "\n",
    "for taxi_id in [20000542]:\n",
    "    new_train=dftrain[dftrain['TAXI_ID'] == taxi_id]\n",
    "\n",
    "Xtrain = []\n",
    "ytrain = []\n",
    "\n",
    "for row in new_train.iterrows():\n",
    "    lst = []\n",
    "    for elem in ['WEEK']:\n",
    "        lst.append(row[1][elem])\n",
    "\n",
    "    Xtrain.append(np.array(lst))\n",
    "    value = row[1]['TRAVEL_TIME']\n",
    "    ytrain.append(np.array([value]))\n",
    "    \n",
    "    X_train = np.array(Xtrain)\n",
    "    y_train = np.array(ytrain)\n",
    "\n",
    "    X_train = np.reshape(X_train, (X_train.shape[0], X_train.shape[1], 1))\n",
    "    y_train = np.reshape(y_train, (-1,1))\n",
    "\n",
    "timesteps = X_train.shape[1]\n",
    "features = X_train.shape[2]\n",
    "num_classes = 1\n",
    "\n",
    "# Define the LSTM model\n",
    "model = Sequential()\n",
    "model.add(LSTM(128, input_shape=(timesteps, features)))\n",
    "model.add(Dense(128, activation='relu'))\n",
    "model.add(Dense(64, activation='relu'))\n",
    "model.add(Dense(32, activation='relu'))\n",
    "model.add(Dense(num_classes, activation='relu'))\n",
    "\n",
    "# Compile the model\n",
    "model.compile(loss='mse', optimizer='adam', metrics=['mse'])\n",
    "\n",
    "# Train the model\n",
    "model.fit(X_train, y_train, epochs=10,verbose=False)#, validation_data=(X_val, y_val))\n",
    "\n",
    "tmp_test=dftest[dftest['TAXI_ID'] == taxi_id]  \n",
    "for row in tmp_test.iterrows():\n",
    "    trip_id = row[1]['TRIP_ID']\n",
    "\n",
    "    lst = []\n",
    "    for elem in ['WEEK']:\n",
    "        lst.append(row[1][elem])\n",
    "\n",
    "    #Reshape your data either using array.reshape(-1, 1) if your data has a single feature \n",
    "    #or array.reshape(1, -1) if it contains a single sample.\n",
    "    pred = model.predict(np.array(lst).reshape(1,-1))[0][0]\n",
    "    #print(trip_id,pred)"
   ]
  },
  {
   "cell_type": "markdown",
   "id": "0c5c38ce",
   "metadata": {},
   "source": [
    "### Model 7: LDA\n",
    "- In notebook: [CSE 151B] Final Model [Thy]-final version"
   ]
  },
  {
   "cell_type": "markdown",
   "id": "df71491c",
   "metadata": {},
   "source": [
    "### Model 8: LDA + swap indices\n",
    "- In notebook: [CSE 151B] Final Model [Thy]-final version"
   ]
  }
 ],
 "metadata": {
  "kernelspec": {
   "display_name": "Python 3 (ipykernel)",
   "language": "python",
   "name": "python3"
  },
  "language_info": {
   "codemirror_mode": {
    "name": "ipython",
    "version": 3
   },
   "file_extension": ".py",
   "mimetype": "text/x-python",
   "name": "python",
   "nbconvert_exporter": "python",
   "pygments_lexer": "ipython3",
   "version": "3.9.5"
  }
 },
 "nbformat": 4,
 "nbformat_minor": 5
}
